{
 "cells": [
  {
   "cell_type": "code",
   "execution_count": null,
   "id": "b2482869",
   "metadata": {},
   "outputs": [],
   "source": [
    "import pandas as pd\n",
    "import numpy as np\n",
    "import panel as pn\n",
    "import hvplot.pandas\n",
    "import holoviews as hv\n",
    "\n",
    "iuc = pd.read_csv(\"iuc2(1)(1).csv\",header=0)\n",
    "up = [112,6,28,175,248,227,247,61,7,74]\n",
    "down = [249,47,10,116,233,123,67,64,29,141]\n",
    "# up_data = iuc[iuc[\"position\"].isin(up)]\n",
    "# down_data = iuc[iuc[\"position\"].isin(down)]\n",
    "all_data = iuc[iuc[\"position\"].isin(up+down)]\n",
    "\n",
    "def column_merge(a,b):\n",
    "    return str([a,b])\n",
    "# up_data['col_merge'] = up_data.apply(lambda row:column_merge(row['position'],row['amino_wt']),axis=1)\n",
    "all_data['position_amino.wt'] = all_data.apply(lambda row:column_merge(row['position'],row['amino_wt']),axis=1)\n",
    "all_data[\"pvalue\"] = all_data[\"pvalue\"].fillna(1)\n",
    "all_data[\"-log10(pvalue)\"] = -all_data['pvalue'].apply(np.log10)\n",
    "\n",
    "all_data.loc[(all_data.pvalue <= 0.001),\"symbol\"] = \"***\"\n",
    "all_data.loc[(all_data.pvalue <= 0.01),\"symbol\"] = \"**\"\n",
    "all_data.loc[(all_data.pvalue <= 0.05),\"symbol\"] = \"*\"\n",
    "all_data.loc[(all_data.pvalue > 0.05),\"symbol\"] = \"\"\n",
    "all_data.loc[(all_data.amino_mut == all_data.amino_wt),\"symbol\"] = \"○\"\n",
    "\n",
    "pn.extension()\n",
    "x = pn.widgets.RadioButtonGroup(name='Function', options=['top10_up', 'top10_down',\"top10_all\"],width=300)\n",
    "y = pn.widgets.RadioButtonGroup(name='Button Group', options=['-log10(pvalue)', 't3_vs_t0'],width=200)\n",
    "\n",
    "@pn.depends(x,y,watch=True)\n",
    "def pic(x,y):\n",
    "    if x == \"top10_up\":\n",
    "        data = all_data[all_data[\"position\"].isin(up)]\n",
    "        pheatmap = data.hvplot.heatmap(x='amino_mut', y='position_amino.wt', C=y,\n",
    "                       cmap=\"Blues\", xaxis='top', width=700,height=500).opts(toolbar=None, fontsize={'ticks': 10,'labels':15})\n",
    "        plot = pheatmap * hv.Labels(pheatmap,vdims=\"symbol\")\n",
    "    elif x == \"top10_down\":\n",
    "        data = all_data[all_data[\"position\"].isin(down)]\n",
    "        pheatmap = data.hvplot.heatmap(x='amino_mut', y='position_amino.wt', C=y,\n",
    "                       cmap=\"Blues\", xaxis='top', width=700,height=500).opts(toolbar=None, fontsize={'ticks': 10,'labels':15})\n",
    "        plot = pheatmap * hv.Labels(pheatmap,vdims=\"symbol\")\n",
    "    else:\n",
    "        data = all_data\n",
    "        pheatmap = data.hvplot.heatmap(x='amino_mut', y='position_amino.wt', C=y,\n",
    "                       cmap=\"Blues\", xaxis='top', width=700,height=500).opts(toolbar=None, fontsize={'ticks': 10,'labels':15})\n",
    "        plot = pheatmap * hv.Labels(pheatmap,vdims=\"symbol\")\n",
    "    return plot\n",
    "pn.Row(pn.WidgetBox(x,y),pic)\n",
    "\n",
    "display = pn.Row(pn.WidgetBox(x,y),pic)\n",
    "\n",
    "pn.template.FastListTemplate(\n",
    "    site=\"team5_homework\", title=\"Heatmap of select position\",\n",
    "    main=[\"Heatmap of select position\",display]).servable()"
   ]
  }
 ],
 "metadata": {
  "kernelspec": {
   "display_name": "Python 3",
   "language": "python",
   "name": "python3"
  },
  "language_info": {
   "codemirror_mode": {
    "name": "ipython",
    "version": 3
   },
   "file_extension": ".py",
   "mimetype": "text/x-python",
   "name": "python",
   "nbconvert_exporter": "python",
   "pygments_lexer": "ipython3",
   "version": "3.8.8"
  }
 },
 "nbformat": 4,
 "nbformat_minor": 5
}
